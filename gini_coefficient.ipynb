{
 "cells": [
  {
   "cell_type": "code",
   "execution_count": 1,
   "metadata": {},
   "outputs": [],
   "source": [
    "import pandas as pd\n",
    "import numpy as np\n",
    "import os\n",
    "from functools import reduce\n",
    "\n",
    "from matplotlib import pyplot as plt\n",
    "import seaborn as sns\n",
    "from matplotlib.ticker import FuncFormatter, EngFormatter\n",
    "\n",
    "from gini import gini"
   ]
  },
  {
   "cell_type": "code",
   "execution_count": 2,
   "metadata": {},
   "outputs": [],
   "source": [
    "[blue, orange, green, red, purple, brown] = sns.color_palette()[:6]"
   ]
  },
  {
   "cell_type": "markdown",
   "metadata": {},
   "source": [
    "# Measuring Statistical Dispersion with the Gini Coefficient\n",
    "\n",
    "_Kimberly Fessel, PhD_ &nbsp; ||  &nbsp; _05 June 2020_  &nbsp; || &nbsp;  [Full Blog Post](http://kimberlyfessel.com/mathematics/applications/gini-use-cases/)"
   ]
  },
  {
   "cell_type": "markdown",
   "metadata": {},
   "source": [
    "## Case \\#1: Baby Names "
   ]
  },
  {
   "cell_type": "markdown",
   "metadata": {},
   "source": [
    "Begin by loading the baby names from the US [Social Security Administration](https://www.ssa.gov/oact/babynames/limits.html) and filtering to 1950 through 2018."
   ]
  },
  {
   "cell_type": "code",
   "execution_count": 3,
   "metadata": {},
   "outputs": [],
   "source": [
    "names_dir = 'data/namesbystate/'\n",
    "names_data_list = []\n",
    "names_columns = ['state', 'gender', 'year', 'name', 'babies']\n",
    "\n",
    "for file in os.listdir(names_dir):\n",
    "    if file.endswith(\".TXT\"):\n",
    "        names_data = pd.read_csv(names_dir + file, header=None, names=names_columns)\n",
    "        names_data_list.append(names_data)\n",
    "    else:\n",
    "        continue\n",
    "\n",
    "names_data = pd.concat(names_data_list)"
   ]
  },
  {
   "cell_type": "code",
   "execution_count": 4,
   "metadata": {},
   "outputs": [],
   "source": [
    "data = names_data[names_data.year >= 1950]"
   ]
  },
  {
   "cell_type": "markdown",
   "metadata": {},
   "source": [
    "Higher proportion of male babies registered with Social Security Administration"
   ]
  },
  {
   "cell_type": "code",
   "execution_count": 5,
   "metadata": {},
   "outputs": [
    {
     "data": {
      "text/plain": [
       "gender\n",
       "F    0.470069\n",
       "M    0.529931\n",
       "Name: babies, dtype: float64"
      ]
     },
     "execution_count": 5,
     "metadata": {},
     "output_type": "execute_result"
    }
   ],
   "source": [
    "data.groupby('gender').babies.sum() / data.babies.sum()"
   ]
  },
  {
   "cell_type": "code",
   "execution_count": 6,
   "metadata": {},
   "outputs": [],
   "source": [
    "total_babies = data.babies.sum()\n",
    "female_perc = data[data.gender=='F'].babies.sum() / total_babies\n",
    "male_perc = data[data.gender=='M'].babies.sum() / total_babies"
   ]
  },
  {
   "cell_type": "markdown",
   "metadata": {},
   "source": [
    "### Most Popular Names\n",
    "\n",
    "Check most popular names by gender -- 18 out of top 20 names more commonly given to males."
   ]
  },
  {
   "cell_type": "code",
   "execution_count": 7,
   "metadata": {
    "scrolled": true
   },
   "outputs": [],
   "source": [
    "most_popular_names = (\n",
    "    data\n",
    "    .groupby(['name', 'gender'])\n",
    "    .babies\n",
    "    .sum()\n",
    "    .reset_index()\n",
    "    .sort_values('babies', ascending=False)\n",
    ")"
   ]
  },
  {
   "cell_type": "code",
   "execution_count": 8,
   "metadata": {},
   "outputs": [
    {
     "data": {
      "text/html": [
       "<div>\n",
       "<style scoped>\n",
       "    .dataframe tbody tr th:only-of-type {\n",
       "        vertical-align: middle;\n",
       "    }\n",
       "\n",
       "    .dataframe tbody tr th {\n",
       "        vertical-align: top;\n",
       "    }\n",
       "\n",
       "    .dataframe thead th {\n",
       "        text-align: right;\n",
       "    }\n",
       "</style>\n",
       "<table border=\"1\" class=\"dataframe\">\n",
       "  <thead>\n",
       "    <tr style=\"text-align: right;\">\n",
       "      <th></th>\n",
       "      <th>name</th>\n",
       "      <th>gender</th>\n",
       "      <th>babies</th>\n",
       "    </tr>\n",
       "  </thead>\n",
       "  <tbody>\n",
       "    <tr>\n",
       "      <th>20839</th>\n",
       "      <td>Michael</td>\n",
       "      <td>M</td>\n",
       "      <td>3888725</td>\n",
       "    </tr>\n",
       "    <tr>\n",
       "      <th>7201</th>\n",
       "      <td>David</td>\n",
       "      <td>M</td>\n",
       "      <td>2874196</td>\n",
       "    </tr>\n",
       "    <tr>\n",
       "      <th>12793</th>\n",
       "      <td>James</td>\n",
       "      <td>M</td>\n",
       "      <td>2863869</td>\n",
       "    </tr>\n",
       "    <tr>\n",
       "      <th>14233</th>\n",
       "      <td>John</td>\n",
       "      <td>M</td>\n",
       "      <td>2729816</td>\n",
       "    </tr>\n",
       "    <tr>\n",
       "      <th>24549</th>\n",
       "      <td>Robert</td>\n",
       "      <td>M</td>\n",
       "      <td>2569730</td>\n",
       "    </tr>\n",
       "    <tr>\n",
       "      <th>30104</th>\n",
       "      <td>William</td>\n",
       "      <td>M</td>\n",
       "      <td>2102417</td>\n",
       "    </tr>\n",
       "    <tr>\n",
       "      <th>5929</th>\n",
       "      <td>Christopher</td>\n",
       "      <td>M</td>\n",
       "      <td>2004215</td>\n",
       "    </tr>\n",
       "    <tr>\n",
       "      <th>14474</th>\n",
       "      <td>Joseph</td>\n",
       "      <td>M</td>\n",
       "      <td>1688940</td>\n",
       "    </tr>\n",
       "    <tr>\n",
       "      <th>6899</th>\n",
       "      <td>Daniel</td>\n",
       "      <td>M</td>\n",
       "      <td>1674697</td>\n",
       "    </tr>\n",
       "    <tr>\n",
       "      <th>20297</th>\n",
       "      <td>Matthew</td>\n",
       "      <td>M</td>\n",
       "      <td>1567222</td>\n",
       "    </tr>\n",
       "    <tr>\n",
       "      <th>28579</th>\n",
       "      <td>Thomas</td>\n",
       "      <td>M</td>\n",
       "      <td>1457860</td>\n",
       "    </tr>\n",
       "    <tr>\n",
       "      <th>13711</th>\n",
       "      <td>Jennifer</td>\n",
       "      <td>F</td>\n",
       "      <td>1455716</td>\n",
       "    </tr>\n",
       "    <tr>\n",
       "      <th>24396</th>\n",
       "      <td>Richard</td>\n",
       "      <td>M</td>\n",
       "      <td>1434850</td>\n",
       "    </tr>\n",
       "    <tr>\n",
       "      <th>20166</th>\n",
       "      <td>Mary</td>\n",
       "      <td>F</td>\n",
       "      <td>1347816</td>\n",
       "    </tr>\n",
       "    <tr>\n",
       "      <th>19950</th>\n",
       "      <td>Mark</td>\n",
       "      <td>M</td>\n",
       "      <td>1279910</td>\n",
       "    </tr>\n",
       "    <tr>\n",
       "      <th>2282</th>\n",
       "      <td>Anthony</td>\n",
       "      <td>M</td>\n",
       "      <td>1238697</td>\n",
       "    </tr>\n",
       "    <tr>\n",
       "      <th>14494</th>\n",
       "      <td>Joshua</td>\n",
       "      <td>M</td>\n",
       "      <td>1203930</td>\n",
       "    </tr>\n",
       "    <tr>\n",
       "      <th>27396</th>\n",
       "      <td>Steven</td>\n",
       "      <td>M</td>\n",
       "      <td>1189443</td>\n",
       "    </tr>\n",
       "    <tr>\n",
       "      <th>16346</th>\n",
       "      <td>Kevin</td>\n",
       "      <td>M</td>\n",
       "      <td>1156124</td>\n",
       "    </tr>\n",
       "    <tr>\n",
       "      <th>1922</th>\n",
       "      <td>Andrew</td>\n",
       "      <td>M</td>\n",
       "      <td>1149449</td>\n",
       "    </tr>\n",
       "  </tbody>\n",
       "</table>\n",
       "</div>"
      ],
      "text/plain": [
       "              name gender   babies\n",
       "20839      Michael      M  3888725\n",
       "7201         David      M  2874196\n",
       "12793        James      M  2863869\n",
       "14233         John      M  2729816\n",
       "24549       Robert      M  2569730\n",
       "30104      William      M  2102417\n",
       "5929   Christopher      M  2004215\n",
       "14474       Joseph      M  1688940\n",
       "6899        Daniel      M  1674697\n",
       "20297      Matthew      M  1567222\n",
       "28579       Thomas      M  1457860\n",
       "13711     Jennifer      F  1455716\n",
       "24396      Richard      M  1434850\n",
       "20166         Mary      F  1347816\n",
       "19950         Mark      M  1279910\n",
       "2282       Anthony      M  1238697\n",
       "14494       Joshua      M  1203930\n",
       "27396       Steven      M  1189443\n",
       "16346        Kevin      M  1156124\n",
       "1922        Andrew      M  1149449"
      ]
     },
     "execution_count": 8,
     "metadata": {},
     "output_type": "execute_result"
    }
   ],
   "source": [
    "most_popular_names[:20]   "
   ]
  },
  {
   "cell_type": "markdown",
   "metadata": {},
   "source": [
    "\"Michael\" represents over 3% of male babies in the data."
   ]
  },
  {
   "cell_type": "code",
   "execution_count": 9,
   "metadata": {},
   "outputs": [
    {
     "data": {
      "text/plain": [
       "20839    0.032098\n",
       "Name: babies, dtype: float64"
      ]
     },
     "execution_count": 9,
     "metadata": {},
     "output_type": "execute_result"
    }
   ],
   "source": [
    "(\n",
    "    most_popular_names[\n",
    "        (most_popular_names['name'] == 'Michael') &\n",
    "        (most_popular_names['gender'] == 'M')\n",
    "    ].babies \n",
    "    / most_popular_names[\n",
    "        most_popular_names['gender']=='M'\n",
    "    ].babies\n",
    "    .sum()\n",
    ")"
   ]
  },
  {
   "cell_type": "markdown",
   "metadata": {},
   "source": [
    "### Unique Names by Gender\n",
    "\n",
    "Calculate and plot number of unique names per gender over time."
   ]
  },
  {
   "cell_type": "code",
   "execution_count": 10,
   "metadata": {},
   "outputs": [],
   "source": [
    "unique_names_per_gender = (\n",
    "    data\n",
    "    .groupby(['year', 'gender'])\n",
    "    .name\n",
    "    .nunique()\n",
    "    .unstack()\n",
    ")"
   ]
  },
  {
   "cell_type": "code",
   "execution_count": 11,
   "metadata": {
    "scrolled": false
   },
   "outputs": [
    {
     "data": {
      "image/png": "[encoded data removed]",
      "text/plain": [
       "<Figure size 720x360 with 1 Axes>"
      ]
     },
     "metadata": {
      "needs_background": "dark"
     },
     "output_type": "display_data"
    }
   ],
   "source": [
    "fig, ax = plt.subplots(1, 1)\n",
    "unique_names_per_gender.plot(figsize=(10,5), ax=ax, linewidth=3, color=[red, 'gray'])\n",
    "plt.xlabel('')\n",
    "plt.ylabel('Unique Names\\nin Dataset', \n",
    "           fontsize=16, \n",
    "           color='gray', \n",
    "           rotation = 0,\n",
    "           horizontalalignment='left',\n",
    "           labelpad=125,\n",
    "           position=(-.1, .9))\n",
    "plt.legend([], frameon=False)\n",
    "plt.title('Fewer females in the dataset but far more names for them\\n', loc='left', fontsize=18)\n",
    "plt.ylim(0, 6500)\n",
    "\n",
    "#Annotate\n",
    "plt.text(2018, 5550, 'Females', color=red, fontsize=16, fontweight='bold')\n",
    "plt.text(2018, 5200, '{:.0f}% of all babies'.format(female_perc*100), color='gray', fontsize=12, fontstyle='italic')\n",
    "plt.text(2018, 4200, 'Males', color='gray', fontsize=16 )\n",
    "plt.text(2018, 3900, '{:.0f}% of all babies'.format(male_perc*100), color='gray', fontsize=12, fontstyle='italic')\n",
    "\n",
    "#Style\n",
    "ax.spines['top'].set_visible(False)\n",
    "ax.spines['right'].set_visible(False)\n",
    "\n",
    "g = ax.get_yticks()\n",
    "plt.yticks(g[1:])\n",
    "ax.tick_params(axis='both', which='major', colors='gray', labelsize=14, length=0)\n",
    "\n",
    "ax.get_yaxis().set_major_formatter(\n",
    "    FuncFormatter(lambda x, p: format(str(int(x/1000))+'K')))"
   ]
  },
  {
   "cell_type": "markdown",
   "metadata": {},
   "source": [
    "### Overall Gini Coefficients per Gender\n",
    "\n",
    "Calculate the overall Gini coefficient for each gender."
   ]
  },
  {
   "cell_type": "code",
   "execution_count": 12,
   "metadata": {},
   "outputs": [
    {
     "data": {
      "text/plain": [
       "gender\n",
       "F    0.956617\n",
       "M    0.966787\n",
       "Name: babies, dtype: float64"
      ]
     },
     "execution_count": 12,
     "metadata": {},
     "output_type": "execute_result"
    }
   ],
   "source": [
    "gini_gender = (\n",
    "    most_popular_names\n",
    "    .groupby('gender')\n",
    "    .babies\n",
    "    .apply(lambda x: gini(np.array(x.astype('float'))))\n",
    ")\n",
    "\n",
    "gini_gender"
   ]
  },
  {
   "cell_type": "markdown",
   "metadata": {},
   "source": [
    "Some female names appear only five times in the entire dataset.  \"Jennifer\" represents roughly 1.5 million babies."
   ]
  },
  {
   "cell_type": "code",
   "execution_count": 13,
   "metadata": {},
   "outputs": [],
   "source": [
    "female_babies = (\n",
    "    most_popular_names[most_popular_names.gender=='F']\n",
    "    .sort_values(['babies', 'name'])\n",
    ")\n",
    "\n",
    "male_babies = (\n",
    "    most_popular_names[most_popular_names.gender=='M']\n",
    "    .sort_values(['babies', 'name'])\n",
    ")"
   ]
  },
  {
   "cell_type": "code",
   "execution_count": 14,
   "metadata": {},
   "outputs": [
    {
     "data": {
      "text/html": [
       "<div>\n",
       "<style scoped>\n",
       "    .dataframe tbody tr th:only-of-type {\n",
       "        vertical-align: middle;\n",
       "    }\n",
       "\n",
       "    .dataframe tbody tr th {\n",
       "        vertical-align: top;\n",
       "    }\n",
       "\n",
       "    .dataframe thead th {\n",
       "        text-align: right;\n",
       "    }\n",
       "</style>\n",
       "<table border=\"1\" class=\"dataframe\">\n",
       "  <thead>\n",
       "    <tr style=\"text-align: right;\">\n",
       "      <th></th>\n",
       "      <th>name</th>\n",
       "      <th>gender</th>\n",
       "      <th>babies</th>\n",
       "    </tr>\n",
       "  </thead>\n",
       "  <tbody>\n",
       "    <tr>\n",
       "      <th>24</th>\n",
       "      <td>Aalaya</td>\n",
       "      <td>F</td>\n",
       "      <td>5</td>\n",
       "    </tr>\n",
       "    <tr>\n",
       "      <th>35</th>\n",
       "      <td>Aalliyah</td>\n",
       "      <td>F</td>\n",
       "      <td>5</td>\n",
       "    </tr>\n",
       "    <tr>\n",
       "      <th>38</th>\n",
       "      <td>Aamani</td>\n",
       "      <td>F</td>\n",
       "      <td>5</td>\n",
       "    </tr>\n",
       "    <tr>\n",
       "      <th>44</th>\n",
       "      <td>Aamori</td>\n",
       "      <td>F</td>\n",
       "      <td>5</td>\n",
       "    </tr>\n",
       "    <tr>\n",
       "      <th>50</th>\n",
       "      <td>Aanshi</td>\n",
       "      <td>F</td>\n",
       "      <td>5</td>\n",
       "    </tr>\n",
       "  </tbody>\n",
       "</table>\n",
       "</div>"
      ],
      "text/plain": [
       "        name gender  babies\n",
       "24    Aalaya      F       5\n",
       "35  Aalliyah      F       5\n",
       "38    Aamani      F       5\n",
       "44    Aamori      F       5\n",
       "50    Aanshi      F       5"
      ]
     },
     "execution_count": 14,
     "metadata": {},
     "output_type": "execute_result"
    }
   ],
   "source": [
    "female_babies.head()"
   ]
  },
  {
   "cell_type": "code",
   "execution_count": 15,
   "metadata": {},
   "outputs": [
    {
     "data": {
      "text/html": [
       "<div>\n",
       "<style scoped>\n",
       "    .dataframe tbody tr th:only-of-type {\n",
       "        vertical-align: middle;\n",
       "    }\n",
       "\n",
       "    .dataframe tbody tr th {\n",
       "        vertical-align: top;\n",
       "    }\n",
       "\n",
       "    .dataframe thead th {\n",
       "        text-align: right;\n",
       "    }\n",
       "</style>\n",
       "<table border=\"1\" class=\"dataframe\">\n",
       "  <thead>\n",
       "    <tr style=\"text-align: right;\">\n",
       "      <th></th>\n",
       "      <th>name</th>\n",
       "      <th>gender</th>\n",
       "      <th>babies</th>\n",
       "    </tr>\n",
       "  </thead>\n",
       "  <tbody>\n",
       "    <tr>\n",
       "      <th>18520</th>\n",
       "      <td>Lisa</td>\n",
       "      <td>F</td>\n",
       "      <td>960765</td>\n",
       "    </tr>\n",
       "    <tr>\n",
       "      <th>13919</th>\n",
       "      <td>Jessica</td>\n",
       "      <td>F</td>\n",
       "      <td>1041256</td>\n",
       "    </tr>\n",
       "    <tr>\n",
       "      <th>8961</th>\n",
       "      <td>Elizabeth</td>\n",
       "      <td>F</td>\n",
       "      <td>1068264</td>\n",
       "    </tr>\n",
       "    <tr>\n",
       "      <th>20166</th>\n",
       "      <td>Mary</td>\n",
       "      <td>F</td>\n",
       "      <td>1347816</td>\n",
       "    </tr>\n",
       "    <tr>\n",
       "      <th>13711</th>\n",
       "      <td>Jennifer</td>\n",
       "      <td>F</td>\n",
       "      <td>1455716</td>\n",
       "    </tr>\n",
       "  </tbody>\n",
       "</table>\n",
       "</div>"
      ],
      "text/plain": [
       "            name gender   babies\n",
       "18520       Lisa      F   960765\n",
       "13919    Jessica      F  1041256\n",
       "8961   Elizabeth      F  1068264\n",
       "20166       Mary      F  1347816\n",
       "13711   Jennifer      F  1455716"
      ]
     },
     "execution_count": 15,
     "metadata": {},
     "output_type": "execute_result"
    }
   ],
   "source": [
    "female_babies.tail()"
   ]
  },
  {
   "cell_type": "markdown",
   "metadata": {},
   "source": [
    "Build plot for male and female Lorenz curves.  (Did not appear in blog post.)"
   ]
  },
  {
   "cell_type": "code",
   "execution_count": 16,
   "metadata": {},
   "outputs": [
    {
     "data": {
      "image/png": "[encoded data removed]",
      "text/plain": [
       "<Figure size 720x360 with 2 Axes>"
      ]
     },
     "metadata": {
      "needs_background": "dark"
     },
     "output_type": "display_data"
    }
   ],
   "source": [
    "fig, ax = plt.subplots(1, 2, figsize=(10, 5))\n",
    "\n",
    "#Females\n",
    "ax[0].bar(range(1, 101), \n",
    "        [np.percentile(female_babies.babies.cumsum(), i) for i in range(1, 101)],\n",
    "        color = red\n",
    "      )\n",
    "ax[0].plot(range(1, 101), \n",
    "        [np.percentile(female_babies.babies.cumsum(), i) for i in range(1, 101)],\n",
    "        color = 'gray',\n",
    "        lw=2,\n",
    "        linestyle='--'\n",
    "      )\n",
    "ax[0].set_xlabel('Percentile',\n",
    "           fontsize=14,\n",
    "           color='gray'\n",
    "          )\n",
    "ax[0].set_ylabel('Cumulative\\nSum of Babies', \n",
    "           fontsize=14, \n",
    "           color='gray', \n",
    "           rotation = 0,\n",
    "           horizontalalignment='left',\n",
    "           labelpad=100,\n",
    "           position=(-.5, .8))\n",
    "ax[0].set_ylim(0, 110000000)\n",
    "\n",
    "#Annotate\n",
    "ax[0].text(55, 90000000, 'Females\\nGini=0.96', color=red, fontsize=14, fontweight='bold')\n",
    "\n",
    "#Style\n",
    "ax[0].spines['top'].set_visible(False)\n",
    "ax[0].spines['right'].set_visible(False)\n",
    "\n",
    "g = ax[0].get_yticks()\n",
    "ax[0].set_yticks(g[1:-1])\n",
    "ax[0].tick_params(axis='both', which='major', colors='gray', labelsize=12, length=0)\n",
    "\n",
    "ax[0].get_yaxis().set_major_formatter(\n",
    "    FuncFormatter(lambda x, p: format(str(int(x/1000000))+'MM')))\n",
    "\n",
    "\n",
    "#Males\n",
    "ax[1].bar(range(1, 101), \n",
    "        [np.percentile(male_babies.babies.cumsum(), i) for i in range(1, 101)],\n",
    "        color = blue\n",
    "      )\n",
    "ax[1].plot(range(1, 101), \n",
    "        [np.percentile(male_babies.babies.cumsum(), i) for i in range(1, 101)],\n",
    "        color = 'gray',\n",
    "        lw=2,\n",
    "        linestyle='--'\n",
    "      )\n",
    "ax[1].set_xlabel('Percentile',\n",
    "           fontsize=14,\n",
    "           color='gray'\n",
    "          )\n",
    "ax[1].set_ylim(0, 110000000)\n",
    "ax[1].set_yticks([])\n",
    "\n",
    "#Annotate\n",
    "ax[1].text(55, 90000000, 'Males\\nGini=0.97', color=blue, fontsize=14, fontweight='bold')\n",
    "\n",
    "#Style\n",
    "ax[1].spines['top'].set_visible(False)\n",
    "ax[1].spines['right'].set_visible(False)\n",
    "ax[1].spines['left'].set_visible(False)\n",
    "\n",
    "ax[1].tick_params(axis='both', which='major', colors='gray', labelsize=12, length=0)"
   ]
  },
  {
   "cell_type": "markdown",
   "metadata": {},
   "source": [
    "### Gini Coefficient per Gender Over Time\n",
    "\n",
    "Create dataframe of baby counts per name per gender per year."
   ]
  },
  {
   "cell_type": "code",
   "execution_count": 17,
   "metadata": {},
   "outputs": [],
   "source": [
    "data_gender_year = data.groupby(['gender', 'year', 'name'], as_index=False).babies.sum()"
   ]
  },
  {
   "cell_type": "code",
   "execution_count": 18,
   "metadata": {
    "scrolled": true
   },
   "outputs": [
    {
     "data": {
      "text/html": [
       "<div>\n",
       "<style scoped>\n",
       "    .dataframe tbody tr th:only-of-type {\n",
       "        vertical-align: middle;\n",
       "    }\n",
       "\n",
       "    .dataframe tbody tr th {\n",
       "        vertical-align: top;\n",
       "    }\n",
       "\n",
       "    .dataframe thead th {\n",
       "        text-align: right;\n",
       "    }\n",
       "</style>\n",
       "<table border=\"1\" class=\"dataframe\">\n",
       "  <thead>\n",
       "    <tr style=\"text-align: right;\">\n",
       "      <th></th>\n",
       "      <th>gender</th>\n",
       "      <th>year</th>\n",
       "      <th>name</th>\n",
       "      <th>babies</th>\n",
       "    </tr>\n",
       "  </thead>\n",
       "  <tbody>\n",
       "    <tr>\n",
       "      <th>0</th>\n",
       "      <td>F</td>\n",
       "      <td>1950</td>\n",
       "      <td>Abbe</td>\n",
       "      <td>5</td>\n",
       "    </tr>\n",
       "    <tr>\n",
       "      <th>1</th>\n",
       "      <td>F</td>\n",
       "      <td>1950</td>\n",
       "      <td>Abbie</td>\n",
       "      <td>29</td>\n",
       "    </tr>\n",
       "    <tr>\n",
       "      <th>2</th>\n",
       "      <td>F</td>\n",
       "      <td>1950</td>\n",
       "      <td>Abby</td>\n",
       "      <td>42</td>\n",
       "    </tr>\n",
       "    <tr>\n",
       "      <th>3</th>\n",
       "      <td>F</td>\n",
       "      <td>1950</td>\n",
       "      <td>Abelina</td>\n",
       "      <td>9</td>\n",
       "    </tr>\n",
       "    <tr>\n",
       "      <th>4</th>\n",
       "      <td>F</td>\n",
       "      <td>1950</td>\n",
       "      <td>Abigail</td>\n",
       "      <td>53</td>\n",
       "    </tr>\n",
       "    <tr>\n",
       "      <th>5</th>\n",
       "      <td>F</td>\n",
       "      <td>1950</td>\n",
       "      <td>Ada</td>\n",
       "      <td>436</td>\n",
       "    </tr>\n",
       "    <tr>\n",
       "      <th>6</th>\n",
       "      <td>F</td>\n",
       "      <td>1950</td>\n",
       "      <td>Addie</td>\n",
       "      <td>206</td>\n",
       "    </tr>\n",
       "    <tr>\n",
       "      <th>7</th>\n",
       "      <td>F</td>\n",
       "      <td>1950</td>\n",
       "      <td>Adela</td>\n",
       "      <td>99</td>\n",
       "    </tr>\n",
       "    <tr>\n",
       "      <th>8</th>\n",
       "      <td>F</td>\n",
       "      <td>1950</td>\n",
       "      <td>Adelaida</td>\n",
       "      <td>15</td>\n",
       "    </tr>\n",
       "    <tr>\n",
       "      <th>9</th>\n",
       "      <td>F</td>\n",
       "      <td>1950</td>\n",
       "      <td>Adelaide</td>\n",
       "      <td>35</td>\n",
       "    </tr>\n",
       "  </tbody>\n",
       "</table>\n",
       "</div>"
      ],
      "text/plain": [
       "  gender  year      name  babies\n",
       "0      F  1950      Abbe       5\n",
       "1      F  1950     Abbie      29\n",
       "2      F  1950      Abby      42\n",
       "3      F  1950   Abelina       9\n",
       "4      F  1950   Abigail      53\n",
       "5      F  1950       Ada     436\n",
       "6      F  1950     Addie     206\n",
       "7      F  1950     Adela      99\n",
       "8      F  1950  Adelaida      15\n",
       "9      F  1950  Adelaide      35"
      ]
     },
     "execution_count": 18,
     "metadata": {},
     "output_type": "execute_result"
    }
   ],
   "source": [
    "data_gender_year[:10]"
   ]
  },
  {
   "cell_type": "markdown",
   "metadata": {},
   "source": [
    "Calculate and plot Gini coefficients for each gender for each year."
   ]
  },
  {
   "cell_type": "code",
   "execution_count": 19,
   "metadata": {},
   "outputs": [],
   "source": [
    "yearly_gini = (\n",
    "    data_gender_year\n",
    "    .groupby(['gender', 'year'])\n",
    "    .babies\n",
    "    .apply(lambda x: gini(np.array(x.astype('float'))))\n",
    ")"
   ]
  },
  {
   "cell_type": "code",
   "execution_count": 20,
   "metadata": {},
   "outputs": [
    {
     "data": {
      "image/png": "[encoded data removed]",
      "text/plain": [
       "<Figure size 720x360 with 1 Axes>"
      ]
     },
     "metadata": {
      "needs_background": "dark"
     },
     "output_type": "display_data"
    }
   ],
   "source": [
    "fig, ax = plt.subplots(1, 1)\n",
    "\n",
    "yearly_gini.unstack().T.plot(figsize=(10, 5), ax=ax, linewidth=3, color=[red, blue])\n",
    "plt.xlabel('')\n",
    "plt.ylabel('Yearly Gini\\nCoefficient', \n",
    "           fontsize=16, \n",
    "           color='gray', \n",
    "           rotation = 0,\n",
    "           horizontalalignment='left',\n",
    "           labelpad=100,\n",
    "           position=(-.1, .9))\n",
    "plt.legend([], frameon=False)\n",
    "plt.title('Male Gini coefficient tracks consistently higher throughout time\\n', \n",
    "          loc='left', fontsize=18)\n",
    "plt.ylim(0.83, None)\n",
    "\n",
    "#Annotate\n",
    "plt.text(2019, .845, 'Female Gini', color=red, fontsize=16, fontweight='bold')\n",
    "plt.text(2019, .865, 'Male Gini', color=blue, fontsize=16, fontweight='bold' )\n",
    "\n",
    "#Style\n",
    "ax.spines['top'].set_visible(False)\n",
    "ax.spines['right'].set_visible(False)\n",
    "\n",
    "ax.tick_params(axis='both', which='major', colors='gray', labelsize=14, length=0)"
   ]
  },
  {
   "cell_type": "markdown",
   "metadata": {},
   "source": [
    "### Popularity Shifts of Female Names: Miriam vs Scarlett\n",
    "\n",
    "Count number of years each female name appears."
   ]
  },
  {
   "cell_type": "code",
   "execution_count": 21,
   "metadata": {},
   "outputs": [],
   "source": [
    "data_females_year = data_gender_year[data_gender_year.gender=='F']"
   ]
  },
  {
   "cell_type": "code",
   "execution_count": 22,
   "metadata": {},
   "outputs": [
    {
     "name": "stderr",
     "output_type": "stream",
     "text": [
      "/usr/local/lib/python3.7/site-packages/ipykernel_launcher.py:4: SettingWithCopyWarning: \n",
      "A value is trying to be set on a copy of a slice from a DataFrame.\n",
      "Try using .loc[row_indexer,col_indexer] = value instead\n",
      "\n",
      "See the caveats in the documentation: http://pandas.pydata.org/pandas-docs/stable/indexing.html#indexing-view-versus-copy\n",
      "  after removing the cwd from sys.path.\n"
     ]
    }
   ],
   "source": [
    "data_females_year['year_count'] = (data_females_year\n",
    "                                    .groupby('name')\n",
    "                                    .year\n",
    "                                    .transform('count'))"
   ]
  },
  {
   "cell_type": "code",
   "execution_count": 23,
   "metadata": {},
   "outputs": [
    {
     "data": {
      "text/html": [
       "<div>\n",
       "<style scoped>\n",
       "    .dataframe tbody tr th:only-of-type {\n",
       "        vertical-align: middle;\n",
       "    }\n",
       "\n",
       "    .dataframe tbody tr th {\n",
       "        vertical-align: top;\n",
       "    }\n",
       "\n",
       "    .dataframe thead th {\n",
       "        text-align: right;\n",
       "    }\n",
       "</style>\n",
       "<table border=\"1\" class=\"dataframe\">\n",
       "  <thead>\n",
       "    <tr style=\"text-align: right;\">\n",
       "      <th></th>\n",
       "      <th>gender</th>\n",
       "      <th>year</th>\n",
       "      <th>name</th>\n",
       "      <th>babies</th>\n",
       "      <th>year_count</th>\n",
       "    </tr>\n",
       "  </thead>\n",
       "  <tbody>\n",
       "    <tr>\n",
       "      <th>0</th>\n",
       "      <td>F</td>\n",
       "      <td>1950</td>\n",
       "      <td>Abbe</td>\n",
       "      <td>5</td>\n",
       "      <td>24</td>\n",
       "    </tr>\n",
       "    <tr>\n",
       "      <th>1</th>\n",
       "      <td>F</td>\n",
       "      <td>1950</td>\n",
       "      <td>Abbie</td>\n",
       "      <td>29</td>\n",
       "      <td>67</td>\n",
       "    </tr>\n",
       "    <tr>\n",
       "      <th>2</th>\n",
       "      <td>F</td>\n",
       "      <td>1950</td>\n",
       "      <td>Abby</td>\n",
       "      <td>42</td>\n",
       "      <td>69</td>\n",
       "    </tr>\n",
       "    <tr>\n",
       "      <th>3</th>\n",
       "      <td>F</td>\n",
       "      <td>1950</td>\n",
       "      <td>Abelina</td>\n",
       "      <td>9</td>\n",
       "      <td>11</td>\n",
       "    </tr>\n",
       "    <tr>\n",
       "      <th>4</th>\n",
       "      <td>F</td>\n",
       "      <td>1950</td>\n",
       "      <td>Abigail</td>\n",
       "      <td>53</td>\n",
       "      <td>69</td>\n",
       "    </tr>\n",
       "  </tbody>\n",
       "</table>\n",
       "</div>"
      ],
      "text/plain": [
       "  gender  year     name  babies  year_count\n",
       "0      F  1950     Abbe       5          24\n",
       "1      F  1950    Abbie      29          67\n",
       "2      F  1950     Abby      42          69\n",
       "3      F  1950  Abelina       9          11\n",
       "4      F  1950  Abigail      53          69"
      ]
     },
     "execution_count": 23,
     "metadata": {},
     "output_type": "execute_result"
    }
   ],
   "source": [
    "data_females_year.head()"
   ]
  },
  {
   "cell_type": "markdown",
   "metadata": {},
   "source": [
    "Detect popularity shifts with Gini applied to the yearly data for each name.  \n",
    "\n",
    "Restrict to only names that have appeared in at least 30 years to avoid spurious results."
   ]
  },
  {
   "cell_type": "code",
   "execution_count": 24,
   "metadata": {},
   "outputs": [],
   "source": [
    "gini_fem_names = (\n",
    "    data_females_year[data_females_year.year_count >= 30]\n",
    "    .groupby(['name'])\n",
    "    .babies\n",
    "    .apply(lambda x: gini(np.array(x.astype('float'))))\n",
    "    .sort_values()\n",
    ")"
   ]
  },
  {
   "cell_type": "markdown",
   "metadata": {},
   "source": [
    "\"Miriam\" is the most steady name throughout the years."
   ]
  },
  {
   "cell_type": "code",
   "execution_count": 25,
   "metadata": {
    "scrolled": true
   },
   "outputs": [
    {
     "data": {
      "text/plain": [
       "name\n",
       "Miriam       0.119885\n",
       "Adilene      0.122015\n",
       "Blimie       0.122057\n",
       "Elizabeth    0.123239\n",
       "Nina         0.124333\n",
       "Danny        0.124542\n",
       "Lea          0.127599\n",
       "Elisa        0.143393\n",
       "Madelene     0.145471\n",
       "Grecia       0.146957\n",
       "Estela       0.147354\n",
       "Antonia      0.149523\n",
       "Maria        0.152434\n",
       "Celinda      0.152792\n",
       "Susanna      0.152862\n",
       "Name: babies, dtype: float64"
      ]
     },
     "execution_count": 25,
     "metadata": {},
     "output_type": "execute_result"
    }
   ],
   "source": [
    "gini_fem_names.head(15)"
   ]
  },
  {
   "cell_type": "markdown",
   "metadata": {},
   "source": [
    "\"Scarlett\" experienced the second largest popularity shifts."
   ]
  },
  {
   "cell_type": "code",
   "execution_count": 26,
   "metadata": {},
   "outputs": [
    {
     "data": {
      "text/plain": [
       "name\n",
       "Debbie      0.769605\n",
       "Vivienne    0.770744\n",
       "Magnolia    0.771646\n",
       "Gemma       0.772434\n",
       "Bella       0.781660\n",
       "Piper       0.783383\n",
       "Raelynn     0.784438\n",
       "Aria        0.787152\n",
       "Sheena      0.797374\n",
       "Mila        0.798348\n",
       "Adeline     0.798906\n",
       "Katina      0.801764\n",
       "Zina        0.802010\n",
       "Scarlett    0.803179\n",
       "Nova        0.862324\n",
       "Name: babies, dtype: float64"
      ]
     },
     "execution_count": 26,
     "metadata": {},
     "output_type": "execute_result"
    }
   ],
   "source": [
    "gini_fem_names.tail(15)"
   ]
  },
  {
   "cell_type": "markdown",
   "metadata": {},
   "source": [
    "Create plot to compare \"Miriam\" vs \"Scarlett\" popularity, Lorenz curves, and Gini coefficients."
   ]
  },
  {
   "cell_type": "code",
   "execution_count": 27,
   "metadata": {},
   "outputs": [],
   "source": [
    "def get_females(name, var):\n",
    "    return data_females_year[data_females_year.name == name][var]"
   ]
  },
  {
   "cell_type": "code",
   "execution_count": 28,
   "metadata": {},
   "outputs": [
    {
     "data": {
      "image/png": "[encoded data removed]",
      "text/plain": [
       "<Figure size 1008x360 with 3 Axes>"
      ]
     },
     "metadata": {
      "needs_background": "dark"
     },
     "output_type": "display_data"
    }
   ],
   "source": [
    "scarlett_color = '#E8298B'\n",
    "miriam_color = '#1F815A'\n",
    "\n",
    "fig, ax = plt.subplots(1, 3, figsize=(14, 5), gridspec_kw={'width_ratios': [1.5, 1, 1]})\n",
    "\n",
    "#Popularity plot\n",
    "ax[0].plot(get_females('Scarlett', 'year'), get_females('Scarlett', 'babies'), lw=2, color=scarlett_color)\n",
    "ax[0].plot(get_females('Miriam', 'year'), get_females('Miriam', 'babies'), lw=2, color=miriam_color)\n",
    "\n",
    "plt.ylim(0, None)\n",
    "plt.xlabel('')\n",
    "ax[0].set_ylabel('Female\\nBabies', \n",
    "           fontsize=14, \n",
    "           color='gray', \n",
    "           rotation = 0,\n",
    "           horizontalalignment='left',\n",
    "           labelpad=60,\n",
    "           position=(-.1, .9))\n",
    "ax[0].legend(['Scarlett','Miriam'], frameon=False)\n",
    "ax[0].spines['top'].set_visible(False)\n",
    "ax[0].spines['right'].set_visible(False)\n",
    "g = ax[0].get_yticks()\n",
    "ax[0].tick_params(axis='both', which='major', colors='gray', labelsize=12, length=0)\n",
    "ax[0].get_yaxis().set_major_formatter(\n",
    "    FuncFormatter(lambda x, p: format(str(int(x/1000))+'K')))\n",
    "ax[0].set_xticks([1960, 1980, 2000, 2020])\n",
    "\n",
    "#Scarlett Lorenz curve\n",
    "ax[1].bar(np.linspace(0, 1, len(get_females('Scarlett', 'babies'))), \n",
    "           np.cumsum(get_females('Scarlett', 'babies').sort_values()/get_females('Scarlett', 'babies').sum()).get_values(),\n",
    "           color = scarlett_color,\n",
    "          width = 0.005\n",
    "         )\n",
    "ax[1].plot(np.linspace(0, 1, len(get_females('Scarlett', 'babies'))), \n",
    "           np.cumsum(get_females('Scarlett', 'babies').sort_values()/get_females('Scarlett', 'babies').sum()).get_values(),\n",
    "        color = 'gray',\n",
    "        linestyle='--'\n",
    "      )\n",
    "ax[1].set_ylim((0, 1))\n",
    "ax[1].spines['top'].set_visible(False)\n",
    "ax[1].spines['right'].set_visible(False)\n",
    "ax[1].spines['left'].set_visible(False)\n",
    "ax[1].set_xticks([])\n",
    "ax[1].set_yticks([])\n",
    "ax[1].text(.4, .8, 'Scarlett\\nGini=0.80', color=scarlett_color, fontsize=14, fontweight='bold')\n",
    "\n",
    "#Miriam Lorenz curve\n",
    "ax[2].bar(np.linspace(0, 1, len(get_females('Miriam', 'babies'))), \n",
    "           np.cumsum(get_females('Miriam', 'babies').sort_values()/get_females('Miriam', 'babies').sum()).get_values(),\n",
    "        color = miriam_color, width=0.005\n",
    "      )\n",
    "ax[2].plot(np.linspace(0, 1, len(get_females('Miriam', 'babies'))), \n",
    "           np.cumsum(get_females('Miriam', 'babies').sort_values()/get_females('Miriam', 'babies').sum()).get_values(),\n",
    "        color = 'gray',\n",
    "        linestyle='--'\n",
    "      )\n",
    "ax[2].spines['top'].set_visible(False)\n",
    "ax[2].spines['right'].set_visible(False)\n",
    "ax[2].spines['left'].set_visible(False)\n",
    "ax[2].set_xticks([])\n",
    "ax[2].set_yticks([])\n",
    "ax[2].text(.3, .8, 'Miriam\\nGini=0.12', color=miriam_color, fontsize=14, fontweight='bold')\n",
    "\n",
    "#Title\n",
    "plt.suptitle('Gini coefficient also detects popularity swings for specific names\\n',\n",
    "            x=.41, fontsize=18);"
   ]
  },
  {
   "cell_type": "markdown",
   "metadata": {},
   "source": [
    "Both names represent roughly 60,000 babies in the dataset."
   ]
  },
  {
   "cell_type": "code",
   "execution_count": 29,
   "metadata": {},
   "outputs": [
    {
     "data": {
      "text/plain": [
       "63035"
      ]
     },
     "execution_count": 29,
     "metadata": {},
     "output_type": "execute_result"
    }
   ],
   "source": [
    "get_females('Scarlett', 'babies').sum()"
   ]
  },
  {
   "cell_type": "code",
   "execution_count": 30,
   "metadata": {},
   "outputs": [
    {
     "data": {
      "text/plain": [
       "60255"
      ]
     },
     "execution_count": 30,
     "metadata": {},
     "output_type": "execute_result"
    }
   ],
   "source": [
    "get_females('Miriam', 'babies').sum()"
   ]
  },
  {
   "cell_type": "markdown",
   "metadata": {},
   "source": [
    "# Case \\#2: Healthcare Prices"
   ]
  },
  {
   "cell_type": "markdown",
   "metadata": {},
   "source": [
    "Load data from the [Centers for Medicare and Medicaid Services](https://www.cms.gov/Research-Statistics-Data-and-Systems/Statistics-Trends-and-Reports/Medicare-Provider-Charge-Data/Inpatient2017). _(Data not hosted on GitHub due to size restrictions.)_"
   ]
  },
  {
   "cell_type": "code",
   "execution_count": 31,
   "metadata": {},
   "outputs": [],
   "source": [
    "df = pd.read_csv('data/MEDICARE_PROVIDER_CHARGE_INPATIENT_DRGALL_FY2017.CSV')"
   ]
  },
  {
   "cell_type": "code",
   "execution_count": 32,
   "metadata": {},
   "outputs": [
    {
     "data": {
      "text/html": [
       "<div>\n",
       "<style scoped>\n",
       "    .dataframe tbody tr th:only-of-type {\n",
       "        vertical-align: middle;\n",
       "    }\n",
       "\n",
       "    .dataframe tbody tr th {\n",
       "        vertical-align: top;\n",
       "    }\n",
       "\n",
       "    .dataframe thead th {\n",
       "        text-align: right;\n",
       "    }\n",
       "</style>\n",
       "<table border=\"1\" class=\"dataframe\">\n",
       "  <thead>\n",
       "    <tr style=\"text-align: right;\">\n",
       "      <th></th>\n",
       "      <th>DRG Definition</th>\n",
       "      <th>Provider Id</th>\n",
       "      <th>Provider Name</th>\n",
       "      <th>Provider Street Address</th>\n",
       "      <th>Provider City</th>\n",
       "      <th>Provider State</th>\n",
       "      <th>Provider Zip Code</th>\n",
       "      <th>Hospital Referral Region (HRR) Description</th>\n",
       "      <th>Total Discharges</th>\n",
       "      <th>Average Covered Charges</th>\n",
       "      <th>Average Total Payments</th>\n",
       "      <th>Average Medicare Payments</th>\n",
       "    </tr>\n",
       "  </thead>\n",
       "  <tbody>\n",
       "    <tr>\n",
       "      <th>0</th>\n",
       "      <td>023 - CRANIOTOMY W MAJOR DEVICE IMPLANT OR ACU...</td>\n",
       "      <td>10001</td>\n",
       "      <td>SOUTHEAST ALABAMA MEDICAL CENTER</td>\n",
       "      <td>1108 ROSS CLARK CIRCLE</td>\n",
       "      <td>DOTHAN</td>\n",
       "      <td>AL</td>\n",
       "      <td>36301</td>\n",
       "      <td>AL - Dothan</td>\n",
       "      <td>28</td>\n",
       "      <td>117117.78570</td>\n",
       "      <td>25823.714290</td>\n",
       "      <td>24057.392860</td>\n",
       "    </tr>\n",
       "    <tr>\n",
       "      <th>1</th>\n",
       "      <td>025 - CRANIOTOMY &amp; ENDOVASCULAR INTRACRANIAL P...</td>\n",
       "      <td>10001</td>\n",
       "      <td>SOUTHEAST ALABAMA MEDICAL CENTER</td>\n",
       "      <td>1108 ROSS CLARK CIRCLE</td>\n",
       "      <td>DOTHAN</td>\n",
       "      <td>AL</td>\n",
       "      <td>36301</td>\n",
       "      <td>AL - Dothan</td>\n",
       "      <td>32</td>\n",
       "      <td>98357.56250</td>\n",
       "      <td>20688.343750</td>\n",
       "      <td>19791.406250</td>\n",
       "    </tr>\n",
       "    <tr>\n",
       "      <th>2</th>\n",
       "      <td>027 - CRANIOTOMY &amp; ENDOVASCULAR INTRACRANIAL P...</td>\n",
       "      <td>10001</td>\n",
       "      <td>SOUTHEAST ALABAMA MEDICAL CENTER</td>\n",
       "      <td>1108 ROSS CLARK CIRCLE</td>\n",
       "      <td>DOTHAN</td>\n",
       "      <td>AL</td>\n",
       "      <td>36301</td>\n",
       "      <td>AL - Dothan</td>\n",
       "      <td>11</td>\n",
       "      <td>69153.54546</td>\n",
       "      <td>11811.181820</td>\n",
       "      <td>8194.363636</td>\n",
       "    </tr>\n",
       "    <tr>\n",
       "      <th>3</th>\n",
       "      <td>037 - EXTRACRANIAL PROCEDURES W MCC</td>\n",
       "      <td>10001</td>\n",
       "      <td>SOUTHEAST ALABAMA MEDICAL CENTER</td>\n",
       "      <td>1108 ROSS CLARK CIRCLE</td>\n",
       "      <td>DOTHAN</td>\n",
       "      <td>AL</td>\n",
       "      <td>36301</td>\n",
       "      <td>AL - Dothan</td>\n",
       "      <td>12</td>\n",
       "      <td>100427.33330</td>\n",
       "      <td>19134.000000</td>\n",
       "      <td>18154.000000</td>\n",
       "    </tr>\n",
       "    <tr>\n",
       "      <th>4</th>\n",
       "      <td>038 - EXTRACRANIAL PROCEDURES W CC</td>\n",
       "      <td>10001</td>\n",
       "      <td>SOUTHEAST ALABAMA MEDICAL CENTER</td>\n",
       "      <td>1108 ROSS CLARK CIRCLE</td>\n",
       "      <td>DOTHAN</td>\n",
       "      <td>AL</td>\n",
       "      <td>36301</td>\n",
       "      <td>AL - Dothan</td>\n",
       "      <td>17</td>\n",
       "      <td>58199.47059</td>\n",
       "      <td>8519.470588</td>\n",
       "      <td>6714.882353</td>\n",
       "    </tr>\n",
       "  </tbody>\n",
       "</table>\n",
       "</div>"
      ],
      "text/plain": [
       "                                      DRG Definition  Provider Id  \\\n",
       "0  023 - CRANIOTOMY W MAJOR DEVICE IMPLANT OR ACU...        10001   \n",
       "1  025 - CRANIOTOMY & ENDOVASCULAR INTRACRANIAL P...        10001   \n",
       "2  027 - CRANIOTOMY & ENDOVASCULAR INTRACRANIAL P...        10001   \n",
       "3                037 - EXTRACRANIAL PROCEDURES W MCC        10001   \n",
       "4                 038 - EXTRACRANIAL PROCEDURES W CC        10001   \n",
       "\n",
       "                      Provider Name Provider Street Address Provider City  \\\n",
       "0  SOUTHEAST ALABAMA MEDICAL CENTER  1108 ROSS CLARK CIRCLE        DOTHAN   \n",
       "1  SOUTHEAST ALABAMA MEDICAL CENTER  1108 ROSS CLARK CIRCLE        DOTHAN   \n",
       "2  SOUTHEAST ALABAMA MEDICAL CENTER  1108 ROSS CLARK CIRCLE        DOTHAN   \n",
       "3  SOUTHEAST ALABAMA MEDICAL CENTER  1108 ROSS CLARK CIRCLE        DOTHAN   \n",
       "4  SOUTHEAST ALABAMA MEDICAL CENTER  1108 ROSS CLARK CIRCLE        DOTHAN   \n",
       "\n",
       "  Provider State  Provider Zip Code  \\\n",
       "0             AL              36301   \n",
       "1             AL              36301   \n",
       "2             AL              36301   \n",
       "3             AL              36301   \n",
       "4             AL              36301   \n",
       "\n",
       "  Hospital Referral Region (HRR) Description  Total Discharges  \\\n",
       "0                                AL - Dothan                28   \n",
       "1                                AL - Dothan                32   \n",
       "2                                AL - Dothan                11   \n",
       "3                                AL - Dothan                12   \n",
       "4                                AL - Dothan                17   \n",
       "\n",
       "   Average Covered Charges  Average Total Payments  Average Medicare Payments  \n",
       "0             117117.78570            25823.714290               24057.392860  \n",
       "1              98357.56250            20688.343750               19791.406250  \n",
       "2              69153.54546            11811.181820                8194.363636  \n",
       "3             100427.33330            19134.000000               18154.000000  \n",
       "4              58199.47059             8519.470588                6714.882353  "
      ]
     },
     "execution_count": 32,
     "metadata": {},
     "output_type": "execute_result"
    }
   ],
   "source": [
    "df.head()"
   ]
  },
  {
   "cell_type": "markdown",
   "metadata": {},
   "source": [
    "Group data by diagnosis related group (DRG) and calculate Gini coeffient for both charges and paymets."
   ]
  },
  {
   "cell_type": "code",
   "execution_count": 33,
   "metadata": {},
   "outputs": [],
   "source": [
    "df_grouped = df.groupby('DRG Definition')\n",
    "\n",
    "total = df_grouped.agg({'Total Discharges': 'sum', 'Provider Id': 'count'})\n",
    "\n",
    "gini_covered = (df_grouped['Average Covered Charges']\n",
    " .apply(lambda x: gini(np.array(x)))\n",
    ")\n",
    "\n",
    "gini_payments = (df_grouped['Average Total Payments']\n",
    " .apply(lambda x: gini(np.array(x)))\n",
    ")\n",
    "\n",
    "health_ser = [total, gini_covered, gini_payments]\n",
    "\n",
    "gini_health = reduce(\n",
    "    lambda left,right: pd.merge(left, right, left_index=True, right_index=True), \n",
    "    health_ser\n",
    ")\n",
    "\n",
    "gini_health.columns = ['total_discharges', 'total_providers', 'gini_charges', 'gini_payments']"
   ]
  },
  {
   "cell_type": "markdown",
   "metadata": {},
   "source": [
    "Some procedures were documented by as few as one hospital.  Restrict to procedures that appear at at least 50 hospitals to avoid spurious results."
   ]
  },
  {
   "cell_type": "code",
   "execution_count": 34,
   "metadata": {},
   "outputs": [
    {
     "data": {
      "text/plain": [
       "count     563.000000\n",
       "mean      348.712256\n",
       "std       582.078634\n",
       "min         1.000000\n",
       "25%         9.500000\n",
       "50%        74.000000\n",
       "75%       414.000000\n",
       "max      2838.000000\n",
       "Name: total_providers, dtype: float64"
      ]
     },
     "execution_count": 34,
     "metadata": {},
     "output_type": "execute_result"
    }
   ],
   "source": [
    "gini_health.total_providers.describe()"
   ]
  },
  {
   "cell_type": "code",
   "execution_count": 35,
   "metadata": {},
   "outputs": [],
   "source": [
    "gini_health = gini_health[gini_health.total_providers >= 50]"
   ]
  },
  {
   "cell_type": "markdown",
   "metadata": {},
   "source": [
    "Check the highest and lowest Gini coefficients for hospital charges."
   ]
  },
  {
   "cell_type": "code",
   "execution_count": 36,
   "metadata": {},
   "outputs": [
    {
     "data": {
      "text/html": [
       "<div>\n",
       "<style scoped>\n",
       "    .dataframe tbody tr th:only-of-type {\n",
       "        vertical-align: middle;\n",
       "    }\n",
       "\n",
       "    .dataframe tbody tr th {\n",
       "        vertical-align: top;\n",
       "    }\n",
       "\n",
       "    .dataframe thead th {\n",
       "        text-align: right;\n",
       "    }\n",
       "</style>\n",
       "<table border=\"1\" class=\"dataframe\">\n",
       "  <thead>\n",
       "    <tr style=\"text-align: right;\">\n",
       "      <th></th>\n",
       "      <th>total_discharges</th>\n",
       "      <th>total_providers</th>\n",
       "      <th>gini_charges</th>\n",
       "      <th>gini_payments</th>\n",
       "    </tr>\n",
       "    <tr>\n",
       "      <th>DRG Definition</th>\n",
       "      <th></th>\n",
       "      <th></th>\n",
       "      <th></th>\n",
       "      <th></th>\n",
       "    </tr>\n",
       "  </thead>\n",
       "  <tbody>\n",
       "    <tr>\n",
       "      <th>895 - ALCOHOL/DRUG ABUSE OR DEPENDENCE W REHABILITATION THERAPY</th>\n",
       "      <td>8516</td>\n",
       "      <td>79</td>\n",
       "      <td>0.428458</td>\n",
       "      <td>0.184163</td>\n",
       "    </tr>\n",
       "    <tr>\n",
       "      <th>813 - COAGULATION DISORDERS</th>\n",
       "      <td>8402</td>\n",
       "      <td>455</td>\n",
       "      <td>0.381829</td>\n",
       "      <td>0.243343</td>\n",
       "    </tr>\n",
       "    <tr>\n",
       "      <th>894 - ALCOHOL/DRUG ABUSE OR DEPENDENCE, LEFT AMA</th>\n",
       "      <td>2593</td>\n",
       "      <td>98</td>\n",
       "      <td>0.356524</td>\n",
       "      <td>0.203459</td>\n",
       "    </tr>\n",
       "    <tr>\n",
       "      <th>885 - PSYCHOSES</th>\n",
       "      <td>69980</td>\n",
       "      <td>572</td>\n",
       "      <td>0.351177</td>\n",
       "      <td>0.180905</td>\n",
       "    </tr>\n",
       "    <tr>\n",
       "      <th>205 - OTHER RESPIRATORY SYSTEM DIAGNOSES W MCC</th>\n",
       "      <td>2150</td>\n",
       "      <td>107</td>\n",
       "      <td>0.349004</td>\n",
       "      <td>0.211405</td>\n",
       "    </tr>\n",
       "  </tbody>\n",
       "</table>\n",
       "</div>"
      ],
      "text/plain": [
       "                                                    total_discharges  \\\n",
       "DRG Definition                                                         \n",
       "895 - ALCOHOL/DRUG ABUSE OR DEPENDENCE W REHABI...              8516   \n",
       "813 - COAGULATION DISORDERS                                     8402   \n",
       "894 - ALCOHOL/DRUG ABUSE OR DEPENDENCE, LEFT AMA                2593   \n",
       "885 - PSYCHOSES                                                69980   \n",
       "205 - OTHER RESPIRATORY SYSTEM DIAGNOSES W MCC                  2150   \n",
       "\n",
       "                                                    total_providers  \\\n",
       "DRG Definition                                                        \n",
       "895 - ALCOHOL/DRUG ABUSE OR DEPENDENCE W REHABI...               79   \n",
       "813 - COAGULATION DISORDERS                                     455   \n",
       "894 - ALCOHOL/DRUG ABUSE OR DEPENDENCE, LEFT AMA                 98   \n",
       "885 - PSYCHOSES                                                 572   \n",
       "205 - OTHER RESPIRATORY SYSTEM DIAGNOSES W MCC                  107   \n",
       "\n",
       "                                                    gini_charges  \\\n",
       "DRG Definition                                                     \n",
       "895 - ALCOHOL/DRUG ABUSE OR DEPENDENCE W REHABI...      0.428458   \n",
       "813 - COAGULATION DISORDERS                             0.381829   \n",
       "894 - ALCOHOL/DRUG ABUSE OR DEPENDENCE, LEFT AMA        0.356524   \n",
       "885 - PSYCHOSES                                         0.351177   \n",
       "205 - OTHER RESPIRATORY SYSTEM DIAGNOSES W MCC          0.349004   \n",
       "\n",
       "                                                    gini_payments  \n",
       "DRG Definition                                                     \n",
       "895 - ALCOHOL/DRUG ABUSE OR DEPENDENCE W REHABI...       0.184163  \n",
       "813 - COAGULATION DISORDERS                              0.243343  \n",
       "894 - ALCOHOL/DRUG ABUSE OR DEPENDENCE, LEFT AMA         0.203459  \n",
       "885 - PSYCHOSES                                          0.180905  \n",
       "205 - OTHER RESPIRATORY SYSTEM DIAGNOSES W MCC           0.211405  "
      ]
     },
     "execution_count": 36,
     "metadata": {},
     "output_type": "execute_result"
    }
   ],
   "source": [
    "gini_health.sort_values('gini_charges', ascending=False)[:5]"
   ]
  },
  {
   "cell_type": "code",
   "execution_count": 37,
   "metadata": {},
   "outputs": [
    {
     "data": {
      "text/html": [
       "<div>\n",
       "<style scoped>\n",
       "    .dataframe tbody tr th:only-of-type {\n",
       "        vertical-align: middle;\n",
       "    }\n",
       "\n",
       "    .dataframe tbody tr th {\n",
       "        vertical-align: top;\n",
       "    }\n",
       "\n",
       "    .dataframe thead th {\n",
       "        text-align: right;\n",
       "    }\n",
       "</style>\n",
       "<table border=\"1\" class=\"dataframe\">\n",
       "  <thead>\n",
       "    <tr style=\"text-align: right;\">\n",
       "      <th></th>\n",
       "      <th>total_discharges</th>\n",
       "      <th>total_providers</th>\n",
       "      <th>gini_charges</th>\n",
       "      <th>gini_payments</th>\n",
       "    </tr>\n",
       "    <tr>\n",
       "      <th>DRG Definition</th>\n",
       "      <th></th>\n",
       "      <th></th>\n",
       "      <th></th>\n",
       "      <th></th>\n",
       "    </tr>\n",
       "  </thead>\n",
       "  <tbody>\n",
       "    <tr>\n",
       "      <th>268 - AORTIC AND HEART ASSIST PROCEDURES EXCEPT PULSATION BALLOON W MCC</th>\n",
       "      <td>898</td>\n",
       "      <td>58</td>\n",
       "      <td>0.203512</td>\n",
       "      <td>0.128442</td>\n",
       "    </tr>\n",
       "    <tr>\n",
       "      <th>311 - ANGINA PECTORIS</th>\n",
       "      <td>792</td>\n",
       "      <td>57</td>\n",
       "      <td>0.217525</td>\n",
       "      <td>0.142296</td>\n",
       "    </tr>\n",
       "    <tr>\n",
       "      <th>221 - CARDIAC VALVE &amp; OTH MAJ CARDIOTHORACIC PROC W/O CARD CATH W/O CC/MCC</th>\n",
       "      <td>1029</td>\n",
       "      <td>59</td>\n",
       "      <td>0.217956</td>\n",
       "      <td>0.112008</td>\n",
       "    </tr>\n",
       "    <tr>\n",
       "      <th>001 - HEART TRANSPLANT OR IMPLANT OF HEART ASSIST SYSTEM W MCC</th>\n",
       "      <td>1955</td>\n",
       "      <td>81</td>\n",
       "      <td>0.218514</td>\n",
       "      <td>0.125208</td>\n",
       "    </tr>\n",
       "    <tr>\n",
       "      <th>251 - PERC CARDIOVASC PROC W/O CORONARY ARTERY STENT W/O MCC</th>\n",
       "      <td>1227</td>\n",
       "      <td>78</td>\n",
       "      <td>0.219637</td>\n",
       "      <td>0.137668</td>\n",
       "    </tr>\n",
       "  </tbody>\n",
       "</table>\n",
       "</div>"
      ],
      "text/plain": [
       "                                                    total_discharges  \\\n",
       "DRG Definition                                                         \n",
       "268 - AORTIC AND HEART ASSIST PROCEDURES EXCEPT...               898   \n",
       "311 - ANGINA PECTORIS                                            792   \n",
       "221 - CARDIAC VALVE & OTH MAJ CARDIOTHORACIC PR...              1029   \n",
       "001 - HEART TRANSPLANT OR IMPLANT OF HEART ASSI...              1955   \n",
       "251 - PERC CARDIOVASC PROC W/O CORONARY ARTERY ...              1227   \n",
       "\n",
       "                                                    total_providers  \\\n",
       "DRG Definition                                                        \n",
       "268 - AORTIC AND HEART ASSIST PROCEDURES EXCEPT...               58   \n",
       "311 - ANGINA PECTORIS                                            57   \n",
       "221 - CARDIAC VALVE & OTH MAJ CARDIOTHORACIC PR...               59   \n",
       "001 - HEART TRANSPLANT OR IMPLANT OF HEART ASSI...               81   \n",
       "251 - PERC CARDIOVASC PROC W/O CORONARY ARTERY ...               78   \n",
       "\n",
       "                                                    gini_charges  \\\n",
       "DRG Definition                                                     \n",
       "268 - AORTIC AND HEART ASSIST PROCEDURES EXCEPT...      0.203512   \n",
       "311 - ANGINA PECTORIS                                   0.217525   \n",
       "221 - CARDIAC VALVE & OTH MAJ CARDIOTHORACIC PR...      0.217956   \n",
       "001 - HEART TRANSPLANT OR IMPLANT OF HEART ASSI...      0.218514   \n",
       "251 - PERC CARDIOVASC PROC W/O CORONARY ARTERY ...      0.219637   \n",
       "\n",
       "                                                    gini_payments  \n",
       "DRG Definition                                                     \n",
       "268 - AORTIC AND HEART ASSIST PROCEDURES EXCEPT...       0.128442  \n",
       "311 - ANGINA PECTORIS                                    0.142296  \n",
       "221 - CARDIAC VALVE & OTH MAJ CARDIOTHORACIC PR...       0.112008  \n",
       "001 - HEART TRANSPLANT OR IMPLANT OF HEART ASSI...       0.125208  \n",
       "251 - PERC CARDIOVASC PROC W/O CORONARY ARTERY ...       0.137668  "
      ]
     },
     "execution_count": 37,
     "metadata": {},
     "output_type": "execute_result"
    }
   ],
   "source": [
    "gini_health.sort_values('gini_charges')[:5]"
   ]
  },
  {
   "cell_type": "markdown",
   "metadata": {},
   "source": [
    "The Gini coefficient for hospital charges is higher than the Gini coefficient for payments received for every procedure (DRG)."
   ]
  },
  {
   "cell_type": "code",
   "execution_count": 38,
   "metadata": {},
   "outputs": [],
   "source": [
    "gini_health['charge_greater_payments'] = (gini_health.gini_charges > gini_health.gini_payments)"
   ]
  },
  {
   "cell_type": "code",
   "execution_count": 39,
   "metadata": {},
   "outputs": [
    {
     "data": {
      "text/plain": [
       "307"
      ]
     },
     "execution_count": 39,
     "metadata": {},
     "output_type": "execute_result"
    }
   ],
   "source": [
    "gini_health.charge_greater_payments.sum()"
   ]
  },
  {
   "cell_type": "code",
   "execution_count": 40,
   "metadata": {},
   "outputs": [
    {
     "data": {
      "text/plain": [
       "(307, 5)"
      ]
     },
     "execution_count": 40,
     "metadata": {},
     "output_type": "execute_result"
    }
   ],
   "source": [
    "gini_health.shape"
   ]
  },
  {
   "cell_type": "markdown",
   "metadata": {},
   "source": [
    "Plot estimated distributions (KDEs) for the Gini coefficients for hospital charges vs payments recevied for every procedure."
   ]
  },
  {
   "cell_type": "code",
   "execution_count": 41,
   "metadata": {},
   "outputs": [
    {
     "data": {
      "image/png": "[encoded data removed]",
      "text/plain": [
       "<Figure size 720x288 with 1 Axes>"
      ]
     },
     "metadata": {
      "needs_background": "dark"
     },
     "output_type": "display_data"
    }
   ],
   "source": [
    "plt.figure(figsize=(10,4))\n",
    "sns.kdeplot(gini_health.gini_charges.sort_values(), shade=True, color='gray')\n",
    "sns.kdeplot(gini_health.gini_payments.sort_values(), shade=True, color='xkcd:deep blue')\n",
    "\n",
    "plt.title('Range of procedural Gini coefficients for payments received measure\\n    lower than those for hospital charges\\n', \n",
    "          loc='left',fontsize=16)\n",
    "plt.xlabel('Gini Coefficients', fontsize=14, color='gray', labelpad=20)\n",
    "\n",
    "#Annotate\n",
    "plt.text(.16, 18, 'Payments\\nReceived', fontsize=14, color=\"xkcd:deep blue\", fontweight='bold')\n",
    "plt.text(.31, 10, 'Hospital\\nCharges', fontsize=14, color='gray', fontweight='bold')\n",
    "\n",
    "#Style\n",
    "ax = plt.gca()\n",
    "ax.set_frame_on(False)\n",
    "ax.tick_params(axis=u'both', which=u'both',length=0, colors='gray', labelsize=14)\n",
    "plt.yticks([])\n",
    "plt.legend([], frameon=False);"
   ]
  }
 ],
 "metadata": {
  "kernelspec": {
   "display_name": "Python 3",
   "language": "python",
   "name": "python3"
  },
  "language_info": {
   "codemirror_mode": {
    "name": "ipython",
    "version": 3
   },
   "file_extension": ".py",
   "mimetype": "text/x-python",
   "name": "python",
   "nbconvert_exporter": "python",
   "pygments_lexer": "ipython3",
   "version": "3.7.2"
  }
 },
 "nbformat": 4,
 "nbformat_minor": 2
}
